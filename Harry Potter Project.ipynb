{
 "cells": [
  {
   "cell_type": "markdown",
   "metadata": {},
   "source": [
    "# NETWORK OF MAGIC : SNA of the Harry Potter Series\n",
    "*****\n",
    "\n",
    "The Harry Potters series, by British author JK Rowling, has been one of the most celebrated fantasy-fiction series of the modern world. Rowling created a dark fairytale, rooted in escapism through the magical world of wizards, witches, the Ministry of Magic and at the center of it all, Hogwarts - the school for witchcraft and wizardry. The series chronicles the lives of a young wizard, Harry Potter, and his friends Hermione Granger and Ron Weasley, who he meets while studying at Hogwarts. The series is built around Harry's struggle against Lord Voldemort, a rogue wizard who is now back after Harry's parents gave their life to destroy him. Needless to say, the books are full of magical battles, spells, charms, potions and creatures. \n",
    "\n",
    "Personally, Harry Potter has been a very integral part of my life. I always found myself very invested in the lives of the characters as well as the different ways in which they used magic. For instance, Hermione Granger was established as a genius witch from the very beginning, with characters proclaiming that \"there isn't a spell that our Hermione cannot do\" (Hagrid). Her usage of magic is often diverse and plentiful. Harry Potter on the other hand can be seen to favour particular spells more than other. I would argue that the crux of the series hinges on two spells - *Expelliarmus* (disarms the opponent) and *Expecto Patronum* (dispels creatures called *Dementors*). Furthermore, given the manner in which the series hinges on these main characters, I thought it would be interesting if I could computationally derive a \"network of magic\" around characters in the story and analyze whether (or how) this network informs my understanding of the text in turn.\n",
    "\n",
    "## Some Definitions and Workflow details:\n",
    "\n",
    "1. Packages used in the project:\n",
    "    - Natural Language Toolkit (NLTK): For tokenization of the text and cleanup.\n",
    "    - Networkx : For building the network graph of characters and spells cast\n",
    "    - Itertools : For building a dictionary with all possible spell-character combinations to parse the corpus for\n",
    "    - Matplotlib : Plotting and customization aid for networkx graphs\n",
    "    - Pyvis : A package that facilitates integration of interactive network graphs built from the Networkx module into the Jupyter Notebook itself. \n",
    "    \n",
    "\n",
    "2. I am specifically defining my network as the \"Network of Magic\" in order to steer away from the interpretation that the network depicts which character used a particular spell. Rather, I want it to depict the closest character who was in the _vicinity_ of the spell being cast. Most of the time, this does turns out to be the same individual who cast the spell. But it's important to keep this distinction in mind in order to accurately interpret the Social Network Graph. \n"
   ]
  },
  {
   "cell_type": "code",
   "execution_count": 1,
   "metadata": {},
   "outputs": [],
   "source": [
    "import nltk\n",
    "import networkx as nx\n",
    "import itertools\n",
    "from itertools import product\n",
    "import matplotlib.pyplot as plt\n",
    "from pyvis import network as net"
   ]
  },
  {
   "cell_type": "markdown",
   "metadata": {},
   "source": [
    "## Load the relevant files\n",
    "\n",
    "List of Spells: They were sourced from an [ebook](https://cdn.shopify.com/s/files/1/0599/9645/files/A_Wizards_Guide_to_Spells_ePDF.pdf) that I converted into a plain text file. The ebook was created from the spells listed on [Harry Potter Wikia](https://harrypotter.fandom.com/wiki/List_of_spells). This list also contained spells from Harry Potter spinoff series such as *Fantastic Beasts and Where to Find Them*, which had to be manually removed. Only names of spells were included. Charms (other than the *Banishing Charm*, which is a spell) and Hexes were not included in the list.\n",
    "\n",
    "- Each spell was not completely unique. Eg: *Protego*, *Protego Totalum* and *Protego Horribilus* are all different spells.\n",
    "- Some spells had common English words in them such as \"Point\" in *Point Me* or \"Cave\" in *Cave Inicium*\n",
    "\n",
    "List of Characters: I built a list of characters from the Harry Potter [Wikipedia](https://en.wikipedia.org/wiki/List_of_Harry_Potter_characters)\n",
    "\n",
    "- It was a good mix of major characters and minor characters. All magical creatures such as Fawkes the phoenix, Dobby and Kreacher, the house elves, Buckbeak the Hippogriff, were not included in the list. The list only contained characters as defined as \"magical human beings\" with the exception of Lord Voldemort who toes the line between magical-human and magical-creature\n",
    "\n",
    "Text Files of the Harry Potter series: The raw text files were obtained from this [GitHub Repository](https://github.com/formcept/whiteboard/tree/master/nbviewer/notebooks/data). \n",
    "\n",
    "- There were not suitable for this project immediately and had to be manually cleaned by correcting line breaks and most importantly, the names of spells and characters that had been spelled incorrectly. The files also had random special characters inserted between the text (a product of pdf -> text conversion, I presume) that had to be cleaned. \n"
   ]
  },
  {
   "cell_type": "code",
   "execution_count": 2,
   "metadata": {},
   "outputs": [
    {
     "data": {
      "text/plain": [
       "'/Users/anushasubramanian/Desktop/Harry Potter txt files'"
      ]
     },
     "execution_count": 2,
     "metadata": {},
     "output_type": "execute_result"
    }
   ],
   "source": [
    "pwd"
   ]
  },
  {
   "cell_type": "code",
   "execution_count": 3,
   "metadata": {},
   "outputs": [],
   "source": [
    "#categorise the spells by their complete names, the one-word spells and the double-word spells\n",
    "\n",
    "spellsFull = open('Spells.txt').read().split(\"\\n\\n\") \n",
    "spells = [spell.split()[0] for spell in spellsFull] # only first words\n",
    "doubleSpell = [spell.split()[0] for spell in spellsFull if len(spell.split()) == 2] #all two word spells"
   ]
  },
  {
   "cell_type": "code",
   "execution_count": 4,
   "metadata": {
    "scrolled": false
   },
   "outputs": [
    {
     "data": {
      "text/plain": [
       "['Accio',\n",
       " 'Banishing Charm',\n",
       " 'Aguamenti',\n",
       " 'Alohomora',\n",
       " 'Anapneo',\n",
       " 'Aparecium',\n",
       " 'Avada Kedavra',\n",
       " 'Avis',\n",
       " 'CaveInimicum',\n",
       " 'Colloportus']"
      ]
     },
     "execution_count": 4,
     "metadata": {},
     "output_type": "execute_result"
    }
   ],
   "source": [
    "spellsFull[:10]"
   ]
  },
  {
   "cell_type": "code",
   "execution_count": 5,
   "metadata": {},
   "outputs": [],
   "source": [
    "characters = open('hp_chars.txt').read().split(\"\\n\")"
   ]
  },
  {
   "cell_type": "code",
   "execution_count": 6,
   "metadata": {},
   "outputs": [],
   "source": [
    "# create a dictionary of all combos of spells and characters\n",
    "combinedList = [spellsFull, characters]\n",
    "combos = [p for p in itertools.product(*combinedList)]\n",
    "comboDict = {combo: 0 for combo in combos}"
   ]
  },
  {
   "cell_type": "code",
   "execution_count": 7,
   "metadata": {
    "scrolled": false
   },
   "outputs": [
    {
     "data": {
      "text/plain": [
       "[('Banishing Charm', 'Percy Weasley'),\n",
       " ('Banishing Charm', 'Ron Weasley'),\n",
       " ('Banishing Charm', 'Oliver Wood'),\n",
       " ('Banishing Charm', 'Rose Weasley'),\n",
       " ('Banishing Charm', 'Corban Yaxley'),\n",
       " ('Banishing Charm', 'Blaise Zabini'),\n",
       " ('Aguamenti', 'Hannah Abbott'),\n",
       " ('Aguamenti', 'Ludo Bagman'),\n",
       " ('Aguamenti', 'Bathilda Bagshot'),\n",
       " ('Aguamenti', 'Katie Bell'),\n",
       " ('Aguamenti', 'Cuthbert Binns'),\n",
       " ('Aguamenti', 'Phineas Nigellus Black'),\n",
       " ('Aguamenti', 'Sirius Black')]"
      ]
     },
     "execution_count": 7,
     "metadata": {},
     "output_type": "execute_result"
    }
   ],
   "source": [
    "#example of how the combodict keys looks\n",
    "list(comboDict)[322:335]"
   ]
  },
  {
   "cell_type": "code",
   "execution_count": 8,
   "metadata": {},
   "outputs": [],
   "source": [
    "hp1 = open(\"Book 1 - The Philosopher's Stone.txt\").read()\n",
    "hp2 = open(\"Book 2 - The Chamber of Secrets.txt\").read()\n",
    "hp3 = open(\"Book 3 - The Prisoner of Azkaban.txt\").read()\n",
    "hp4 = open(\"Book 4 - The Goblet of Fire.txt\").read()\n",
    "hp5 = open(\"Book 5 - The Order of the Phoenix.txt\").read()\n",
    "hp6 = open(\"Book 6 - The Half Blood Prince.txt\").read()\n",
    "hp7 = open(\"Book 7 - The Deathly Hallows.txt\").read()"
   ]
  },
  {
   "cell_type": "markdown",
   "metadata": {},
   "source": [
    "After loading my files, it is important that I organize them efficiently into a corpus. The function ```getTokens``` takes a text string and then returns a list of the tokens without the punctuations. I have then re-joined this list of tokens into a cleaned-up string of the original text file and organized them into a dictionary called ```bookDict```"
   ]
  },
  {
   "cell_type": "code",
   "execution_count": 9,
   "metadata": {},
   "outputs": [],
   "source": [
    "# Tokenize without punctuations\n",
    "\n",
    "def getTokens(text):\n",
    "    tokens = [word for word in nltk.word_tokenize(text) if word.isalpha()]\n",
    "    return tokens"
   ]
  },
  {
   "cell_type": "code",
   "execution_count": 10,
   "metadata": {},
   "outputs": [],
   "source": [
    "# dictionary containing cleaned text for each book\n",
    "\n",
    "bookDict = {\"Philosopher's Stone\"      : ' '.join(getTokens(hp1)),\n",
    "            \"Chamber of Secrets\"       : ' '.join(getTokens(hp2)),\n",
    "            \"Prisoner of Azkaban\"      : ' '.join(getTokens(hp3)),\n",
    "            \"The Goblet of Fire\"       : ' '.join(getTokens(hp4)),\n",
    "            \"The Order of the Phoenix\" : ' '.join(getTokens(hp5)),\n",
    "            \"The Half Blood Prince\"    : ' '.join(getTokens(hp6)),\n",
    "            \"The Deathly Hallows\"      : ' '.join(getTokens(hp7))\n",
    "           }"
   ]
  },
  {
   "cell_type": "markdown",
   "metadata": {},
   "source": [
    "In a series such as Harry Potter (or any fiction, really), a character is never just referred  to by a single name. There are first names, last names, nicknames, family names, middle names etc. to be contended with. Specifically, in a fast paced series such as this one, there were two concerns to be dealt with:\n",
    "\n",
    "1. Deceit and deception are a big part of the entire plot structure. Characters change appearances often and take on varied identities. Characters often go into hiding as part of the plot. Characters are also referenced by their childhood nicknames and magical slurs - many of which are not English words. Here are some examples:\n",
    "\n",
    "    - In the 3rd book, Scabbers, Ron Weasley's pet rat, is actually revealed to be Peter Pettigrew - Lord Voldemort's follower and the one that betrayed Harry Potter's parents back in the day. In Pettigrew's group of friends, he was also known as \"Wormtail\" since he had the ability to transform into a rat. Computationally, this means that \n",
    "    ``` python \n",
    "\"Peter\", \"Pettigrew\", \"Scabbers\", \"Wormtail\" \n",
    "``` \n",
    "or any combinations of the above strings could be used to refer to him. \n",
    "\n",
    "    \n",
    "2. The second concern is related to the nicknames and alternate names that are widely prevalent in the books. For the most part, characters are referenced by their surname either when they are very close or when there is a tone of hostility to them. But this doesn't always hold true because there are enough narrative instances, introductions or even general dialogue where the first names are used. \n",
    "\n",
    "    - His friends call him \"Harry\" and \"Potter\", authority figures tend to refer to him as \"Mr. Potter\" and historically, in the magical world, he is known as \"The Boy who Lived\", stemming from his survival of Lord Voldemort's attack when he was still a baby. Similarly, his disciples call him \"Lord Voldemort\", enemies call him \"Voldemort\" and in the magical world he is known as \"He who must not be Named\". Further still, Voldemort is references by his birth name in the initial books that trace his origin stories - any combination of \"Tom Marvolo Riddle Jr\". \n",
    "    \n",
    "Thus the ```normaliseNames``` function written below takes in a token (string), looks through the the character list to see if the token exists in that or as any other form of that name, and outputs a single normalised result that matches the names that are a part of ```comboDict.keys()```\n",
    "\n",
    "This portion was the segment that intersected the most with a close and distance reading approaches to analyzing literature. From examples I have given about, it is easy to see that while some of these normalisations could be figured out with a quick google search, a lot of the more nuanced ones require knowledge of the *Harry Potter Universe* as a whole. "
   ]
  },
  {
   "cell_type": "code",
   "execution_count": 11,
   "metadata": {},
   "outputs": [],
   "source": [
    "def normaliseNames(name):\n",
    "    \"\"\"\n",
    "    returns a standard output string for difference utterances of the same name of main characters\n",
    "    \"\"\"\n",
    "    \n",
    "    if name.lower() in [\"harry\", \"potter\", \"mr.potter\", \"boy who lived \"]:\n",
    "        return \"Harry Potter\"\n",
    "    if name.lower() in [\"lord voldemort\", \"voldemort\", \"he-who-must-not-be-named\", \n",
    "                        \"tom\", \"tom riddle\", \"tom riddle jr.\",\"tom marvolo riddle\", \"thomas\", \"master\"]:\n",
    "        return \"Lord Voldemort\"\n",
    "    if name.lower() in [\"hermione\", \"granger\", \"ms. granger\", \"miss granger\"]:\n",
    "        return \"Hermione Granger\"\n",
    "    if name.lower() in [\"peter\", \"pettigrew\", \"wormtail\", \"scabbers\"]:\n",
    "        return \"Peter Pettigrew\"\n",
    "    if name.lower() in [\"albus\", \"dumbledore\", \"headmaster\"]:\n",
    "        return \"Albus Dumbledore\"\n",
    "    if name.lower() in [\"peverell\", \"antioch\", \"cadmus\", \"ignotus\"]:\n",
    "        return \"Peverell Family\"\n",
    "    if name.lower() in [\"ron\", \"ronald\", \"ronald weasley\", \"ron weasley\"]:\n",
    "        return \"Ron Weasley\"\n",
    "    if name.lower() in [\"myrtle\", \"warren\", \"moaning myrtle\"]:\n",
    "        return \"Moaning Myrtle\"\n",
    "    else:\n",
    "        # check if the name appears in any first or last names in the character list\n",
    "        first = [char.split()[0] for char in characters]\n",
    "        last = [char.split()[1] for char in characters]\n",
    "        if name in first or name in last:\n",
    "            for char in characters:\n",
    "                if name in char:\n",
    "                    return char\n",
    "        \n",
    "        return \"Not a name\""
   ]
  },
  {
   "cell_type": "code",
   "execution_count": 12,
   "metadata": {},
   "outputs": [
    {
     "data": {
      "text/plain": [
       "'Kingsley Shacklebolt'"
      ]
     },
     "execution_count": 12,
     "metadata": {},
     "output_type": "execute_result"
    }
   ],
   "source": [
    "# example of how this function operates\n",
    "normaliseNames(\"Shacklebolt\")"
   ]
  },
  {
   "cell_type": "markdown",
   "metadata": {},
   "source": [
    "## The Pivot \n",
    "\n",
    "Like I had described in the introduction, the network I'm building seeks to find the closest named entity to a spell, such that that entity exists in the list of characters I have provided. The code here is used to achieve that. \n",
    "\n",
    "As a summary, the code iterates through every item stored in ```bookDict``` (the cleaned texts of the 7 Harry Potter books). For each book, the text is re-tokenized and then enumerated to keep track of the token indices. Tokens are scanned until a Spell Name is found. Once a spell name is found, 2 ```while``` loops are run:\n",
    "\n",
    "1. Forward distance loop: measures the distance between the spell and the first instance of a character name in the forward direction (d2)\n",
    "\n",
    "2. Reverse distance loop: measures the distance between the closest character name that appears before the spell (reverse direction d1)\n",
    "\n",
    "                              reverse character --- spell --- forward character \n",
    "                                                ^d1       ^d2\n",
    "                                                \n",
    "The smaller of the distances d1 or d2 would inform our knowledge on which character is closest to the spell (whether it's because they are uttering it, struck by it, or hiding from it). And using a binary scale, 1 is added to ```comboDict[key]``` containing a tuple in the form of (< spell name > , < normalised character name with the shortest distance >)"
   ]
  },
  {
   "cell_type": "code",
   "execution_count": 13,
   "metadata": {
    "scrolled": true
   },
   "outputs": [],
   "source": [
    "for key in bookDict:\n",
    "    \n",
    "    book = getTokens(bookDict[key]) #re-tokenize text for every book\n",
    "    tokens = list(enumerate(book))\n",
    "    for i,token in tokens:\n",
    "        forward = 1\n",
    "        reverse = 1\n",
    "        distancef = 0\n",
    "        distancer = 0\n",
    "        foundf = False\n",
    "        foundr = False\n",
    "        \n",
    "        if token in spells:\n",
    "\n",
    "            #extract the name of spell\n",
    "\n",
    "            if token in doubleSpell:\n",
    "                spell = token + ' ' + tokens[i+1][1]\n",
    "                forward = 2\n",
    "            else:\n",
    "                spell = token\n",
    "\n",
    "            # run a forward loop\n",
    "\n",
    "            while foundf == False:\n",
    "                \n",
    "                charNameF = normaliseNames(tokens[i+forward][1])\n",
    "                \n",
    "                if charNameF in characters:\n",
    "                    \n",
    "                    keyf = tuple([spell, charNameF])\n",
    "                    foundf = True   \n",
    "                distancef+=1\n",
    "                forward+=1 \n",
    "\n",
    "            # run a reverse loop \n",
    "\n",
    "            while foundr == False:\n",
    "                \n",
    "                charNameR = normaliseNames(tokens[i-reverse][1])\n",
    "                \n",
    "                if charNameR in characters:\n",
    "                    keyr = tuple([spell,charNameR])\n",
    "                    foundr = True\n",
    "                distancer+=1\n",
    "                reverse+=1\n",
    "            \n",
    "            if distancef < distancer:\n",
    "                comboDict[keyf]+=1\n",
    "            else:\n",
    "                comboDict[keyr]+=1\n"
   ]
  },
  {
   "cell_type": "markdown",
   "metadata": {},
   "source": [
    "## Graphing the Network\n",
    "\n",
    "Using the networkx module to create a graph with the characters as nodes, the edges as the interactions between characters and spells and the weights as the cumulative (binary) distances of how close they are to a spell. For instance, if Harry is closest to the spell *Expecto Patronum* multiple times, that edge will have a higher weight than another spell that Harry is only in the vicinity of once or twice. "
   ]
  },
  {
   "cell_type": "code",
   "execution_count": 14,
   "metadata": {},
   "outputs": [],
   "source": [
    "charNodes = [key[1] for key in comboDict.keys() if comboDict[key]!=0] #character names as nodes"
   ]
  },
  {
   "cell_type": "code",
   "execution_count": 15,
   "metadata": {},
   "outputs": [],
   "source": [
    "g = nx.Graph()"
   ]
  },
  {
   "cell_type": "code",
   "execution_count": 16,
   "metadata": {},
   "outputs": [],
   "source": [
    "# add nodes\n",
    "g.add_nodes_from(charNodes)"
   ]
  },
  {
   "cell_type": "code",
   "execution_count": 17,
   "metadata": {},
   "outputs": [],
   "source": [
    "#add weighted edges \n",
    "\n",
    "for key, value in comboDict.items():\n",
    "    if value > 0:\n",
    "        g.add_edge(key[0],key[1],weight=value)"
   ]
  },
  {
   "cell_type": "code",
   "execution_count": 18,
   "metadata": {},
   "outputs": [],
   "source": [
    "# From pyvis \n",
    "nt = net.Network(height=750, width=\"100%\",bgcolor=\"#222222\", font_color=\"white\", notebook = True)"
   ]
  },
  {
   "cell_type": "code",
   "execution_count": 19,
   "metadata": {},
   "outputs": [
    {
     "data": {
      "text/html": [
       "\n",
       "        <iframe\n",
       "            width=\"100%\"\n",
       "            height=\"750\"\n",
       "            src=\"Network of Magic in Harry Potter.html\"\n",
       "            frameborder=\"0\"\n",
       "            allowfullscreen\n",
       "        ></iframe>\n",
       "        "
      ],
      "text/plain": [
       "<IPython.lib.display.IFrame at 0x7fc9cdcc5550>"
      ]
     },
     "execution_count": 19,
     "metadata": {},
     "output_type": "execute_result"
    }
   ],
   "source": [
    "nt.from_nx(g)\n",
    "nt.show(\"Network of Magic in Harry Potter.html\")"
   ]
  },
  {
   "cell_type": "markdown",
   "metadata": {},
   "source": [
    "## Discussions\n",
    "\n",
    "The results were generally more accurate than I expected. I will summarize some key points below:\n",
    "\n",
    "- Harry, Hermione and Ron, the three protagonists of the series, have the largest sub-networks of magic in the entire graph. This also intuitively makes sense from a close-reading perspective too - as protagonists they dominate a large chunk of the narrative across ALL 7 books in the series. At least one of them is bound to be present when some kind of event or orchestration of magic is taking place. \n",
    "\n",
    "- Harry is linked to both *Expelliarmus* and *Expecto Patronum* closely. These two spells play pivotal roles in the book. In fact, two very climactic instances of the book are hinged on these spells. Furthermore, he is also linked strongly to *Avada Kedavra* even though he doesn't ever use it himself. *Avada Kedavra* is significant in his story in many ways. His parents were killed by that spell, the same spell gave him the lightnening shaped scar on his forehead that linked him magically to Voldemort. The spell was responsible for the death of his only surviving relative, Sirius Black, in front of his eyes, and Voldemort also uses it on Harry in the last book as he shows up to sacrifice himself. \n",
    "\n",
    "- The Sectumsempra spell network is a good example of how this network informs our understanding of the story. It connects to Harry, Draco, Snape and Ginny Weasley. All of them were involved with this spell intimately. Snape is the one who creates this spell, Harry uses it in a duel against Draco (who is then wounded) and Ginny witnesses the bloody affair. Althought Snape is never shown using it himself, Sectumsempra is a very integral part of his network of spells.\n",
    "\n",
    "Thus, one of the main advantages of building the network this way lies in the fact that we can capture these *unspoken* relations by coding them as a metric of distance and weights. \n",
    "\n",
    "Of course, this approach is not without its faults. Using distance to measure vicinity of magic means that occasionally, people who don't practice magic also find themselves in its vicinity. Argus Filch's network is such an example. Filch is what is called a \"Squib\" - a person born into a magical family but without magical powers. Thus, he cannot possibly use magic. However, his network does connect him to two spells used in his vicinity. This takes place when Harry, Hermione and Ron are hiding from him under the invisibility cloak, thus putting him in the vicinity of it. \n",
    "\n",
    "### Limitations\n",
    "\n",
    "1. Pronouns\n",
    "\n",
    "One of the biggest limitations of this analysis was that is depended heavily on the names of characters being used in place of pronouns. However, novels tend to use a healthy mix of both in their sentences. Thu the \"he\", \"she\", \"him\", \"her\", \"them\" that were present closest to the spell, possibly even closer than the named instance of the characters, was skipped by the code and the person that the pronoun attributed to was not acknowledged as being closest to the spell. \n",
    "\n",
    "To get over it, I tried utilizing ```spacy``` as well as ```neuralcoref```, but that consumed too much memory and wouldn’t allow the corpus to entirely. Since my current method seemed to work relatively well, I decided to continue with it. \n",
    "\n",
    "\n",
    "## Conclusion and Future Directions \n",
    "\n",
    "In terms of future direction, I think it would be interesting to try graphing networks of magic in individual Harry Potter books or even look at networks associated with magical creatures that I had mentioned in the introduction. I hypothesize that Nagini the snake or Fawkes the Phoenix would have some interesting networks, since they play important roles in the series. Furthermore, dialogue attribution with spacy would yield interesting results, despite the memory constraints. Another interesting sub-project would be to characterize these magical networks not just by spell and characters but also by the magical family they come from (Potter, Weasley, Dumbledore, Peverell etc.) and also their lineage such as whether they are purebloods (both parents are descended from wizards), half-bloods (one side of the family has wizard blood) or \"mudbloods\" (slang for a wizard or witch who has wizard blood but comes from families without such a history - Hermione was one.) It could yield interesting results about spell families, offensive v defensive usage etc. \n",
    "\n",
    "This project was heavily inspired by Franco Moretti's \"Circle of Death\" project using a social network derived from Shakespeare's *Hamlet*. A distance-reading of my childhood favorites definitely provided me with a \"zoomed-out\" look on the Harry Potter Universe that I have always craved. Lord Voldemort was surprisingly less connected to magic than I would expect, *Accio* (summoning spell) was surprisingly extensive in its usage, especially since it's not given particular importance. *Legilimens* (a kind of deep dive into the mind) was something I didn’t remember being used this often. These are just a few examples but I do believe that looking at such a network for long enough will yield interesting insights into character sketches of individuals and the manner in which they use magic - like the fact that \"Death Eaters\" (followers of Voldemort) seem to generally be in a vicinity of offensive magic. \n",
    "\n",
    "One of the biggest things that my time in *any* research-based field has taught me is that visualizing a particular concept in different ways, forms and media can actually be very beneficial in understanding it from different perspectives. That is precisely what I tried to achieve through this social network analysis of the interplay between characters and magic in the harry potter series. And I do believe that it has informed the way in which I now look at this modern magical classic."
   ]
  },
  {
   "cell_type": "markdown",
   "metadata": {},
   "source": [
    "## Works Cited"
   ]
  },
  {
   "cell_type": "markdown",
   "metadata": {},
   "source": [
    "Cdn.Shopify.Com, 2020, https://cdn.shopify.com/s/files/1/0599/9645/files/A_Wizards_Guide_to_Spells_ePDF.pdf. Accessed 2 Aug 2020.\n",
    "\n",
    "Litlab.Stanford.Edu, 2020, https://litlab.stanford.edu/LiteraryLabPamphlet2.pdf. Accessed 28 July 2020.\n",
    "\n",
    "\"Formcept/Whiteboard\". Github, 2020, https://github.com/formcept/whiteboard/tree/master/nbviewer/notebooks/data.\n",
    "\n",
    "\"Interactive Network Visualizations — Pyvis 0.1.3.1 Documentation\". Pyvis.Readthedocs.Io, 2020, https://pyvis.readthedocs.io/en/latest/#.\n",
    "\n",
    "\"List Of Harry Potter Characters\". En.Wikipedia.Org, 2020, https://en.wikipedia.org/wiki/List_of_Harry_Potter_characters. Accessed 5 Aug 2020.\n",
    "\n",
    "\"List Of Spells\". Harry Potter Wiki, 2020, https://harrypotter.fandom.com/wiki/List_of_spells. Accessed 2 Aug 2020.\n",
    "\n",
    "Reeves, Jonathan. \"Notes/20-Social-Networks.Ipynb · Master · Berkeleydigitalhumanitiessummer / Computational Literary Analysis\". Gitlab, 2020, https://gitlab.com/digitalhumanitiesatberkeley/computational-literary-analysis/-/blob/master/Notes/20-social-networks.ipynb."
   ]
  }
 ],
 "metadata": {
  "kernelspec": {
   "display_name": "Python 3",
   "language": "python",
   "name": "python3"
  },
  "language_info": {
   "codemirror_mode": {
    "name": "ipython",
    "version": 3
   },
   "file_extension": ".py",
   "mimetype": "text/x-python",
   "name": "python",
   "nbconvert_exporter": "python",
   "pygments_lexer": "ipython3",
   "version": "3.7.6"
  }
 },
 "nbformat": 4,
 "nbformat_minor": 4
}
